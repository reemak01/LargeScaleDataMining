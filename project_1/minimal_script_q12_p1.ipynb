{
 "cells": [
  {
   "cell_type": "code",
   "execution_count": 27,
   "id": "b62667a8",
   "metadata": {},
   "outputs": [],
   "source": [
    "import pandas as pd\n",
    "import numpy as np\n",
    "import random \n",
    "\n",
    "\n",
    "\n",
    "np.random.seed(42)\n",
    "random.seed(42)\n",
    "\n",
    "## text cleaning\n",
    "import re\n",
    "from sklearn.feature_extraction import text\n",
    "from sklearn.feature_extraction.text import CountVectorizer, TfidfTransformer\n",
    "\n",
    "import nltk\n",
    "from nltk import pos_tag\n",
    "from nltk.tokenize import sent_tokenize\n",
    "from nltk.corpus import stopwords\n",
    "#nltk.download('stopwords' )\n",
    "\n",
    "import string\n",
    "from string import punctuation\n",
    "\n",
    "from sklearn.model_selection import train_test_split\n",
    "from sklearn.preprocessing import LabelEncoder\n",
    "from sklearn.linear_model import LogisticRegression\n",
    "from sklearn import metrics\n",
    "\n",
    "stop_words_skt = text.ENGLISH_STOP_WORDS\n",
    "stop_words_en = stopwords.words('english')\n",
    "\n",
    "combined_stopwords = set.union(set(stop_words_en),set(punctuation),set(stop_words_skt))"
   ]
  },
  {
   "cell_type": "code",
   "execution_count": 28,
   "id": "5d000e44",
   "metadata": {},
   "outputs": [],
   "source": [
    "# read csv file\n",
    "filename = \"Project_1_dataset_01_01_2022.csv\"\n",
    "df = pd.read_csv(filename)\n",
    "\n",
    "train, test = train_test_split(df, test_size=0.2, random_state = 42)"
   ]
  },
  {
   "cell_type": "code",
   "execution_count": 29,
   "id": "079bb6cf",
   "metadata": {},
   "outputs": [],
   "source": [
    "def clean(text):\n",
    "    '''\n",
    "    Helps remove many HTML artefacts from the crawler's output.\n",
    "    '''\n",
    "    text = re.sub(r'^https?:\\/\\/.*[\\r\\n]*', '', text, flags=re.MULTILINE)\n",
    "    texter = re.sub(r\"<br />\", \" \", text)\n",
    "    texter = re.sub(r\"&quot;\", \"\\\"\",texter)\n",
    "    texter = re.sub('&#39;', \"\\\"\", texter)\n",
    "    texter = re.sub('\\n', \" \", texter)\n",
    "    texter = re.sub(' u ',\" you \", texter)\n",
    "    texter = re.sub('`',\"\", texter)\n",
    "    texter = re.sub(' +', ' ', texter)\n",
    "    texter = re.sub(r\"(!)\\1+\", r\"!\", texter)\n",
    "    texter = re.sub(r\"(\\?)\\1+\", r\"?\", texter)\n",
    "    texter = re.sub('&amp;', 'and', texter)\n",
    "    texter = re.sub('\\r', ' ',texter)\n",
    "    clean = re.compile('<.*?>')\n",
    "    texter = texter.encode('ascii', 'ignore').decode('ascii')\n",
    "    texter = re.sub(clean, '', texter)\n",
    "    if texter == \"\":\n",
    "        texter = \"\"\n",
    "    return texter\n",
    "\n",
    "def get_tokens(doc: str):\n",
    "    '''\n",
    "    Clean full text without any stemming or lemmatization\n",
    "    '''\n",
    "    doc = clean(doc)\n",
    "    doc = doc.translate(str.maketrans('', '', string.punctuation))\n",
    "    tokens = nltk.word_tokenize(doc)\n",
    "    lower_txt = [token.lower() for token in tokens]\n",
    "    remove_words = [token for token in lower_txt if (not token.isdigit())\\\n",
    "                     and (token not in combined_stopwords) and (len(token)>1)]\n",
    "    return (word for word in remove_words)\n",
    "\n",
    "\n",
    "def data_to_feature_mapping (data: pd.DataFrame(), embeddings_dict: dict, embed_size = 300):\n",
    "    '''\n",
    "    - Get feature mapping for the text. \n",
    "    - Creates a n*p np array where n is the number of data points, p is the number of features\n",
    "    '''\n",
    "    feature_map = np.zeros(embed_size)\n",
    "    for index, row in data.iterrows():\n",
    "#         keywords = row['keywords']\n",
    "#         print(keywords)\n",
    "        keywords = get_tokens(row['full_text'])\n",
    "        embed = get_document_vector(keywords, embeddings_dict, embed_size)\n",
    "        feature_map = np.vstack((feature_map,embed))\n",
    "    feature_map = feature_map[1:,:]\n",
    "    return feature_map\n",
    "\n",
    "def get_document_vector (doc_keywords:list, embeddings_dict: dict, embed_size = 300 ):\n",
    "    '''\n",
    "    From the list of keywords representing the document, get a document embedding by averaging the embedding over words\n",
    "    '''\n",
    "    representation = np.zeros(embed_size)\n",
    "    count = 0\n",
    "    for word in doc_keywords:\n",
    "        try:\n",
    "            embed = embeddings_dict[word]\n",
    "            count = count+1\n",
    "            representation = np.add(representation, embed)    \n",
    "        except:\n",
    "            count = count\n",
    "    return (representation / count)\n"
   ]
  },
  {
   "cell_type": "code",
   "execution_count": 30,
   "id": "9c0605ad",
   "metadata": {},
   "outputs": [],
   "source": [
    "embed_size = [50,100,200,300]\n",
    "\n",
    "clf = LogisticRegression(penalty = 'none',max_iter=10000, random_state=42)\n",
    "# clf = SVC(kernel='linear', C=10, random_state=42)\n",
    "label_encoder = LabelEncoder()\n",
    "\n",
    "## label encoding\n",
    "y_train = label_encoder.fit_transform(train['root_label'])\n",
    "y_test = label_encoder.transform(test['root_label'])\n",
    "\n",
    "## report test accuracy on different embedding size\n",
    "accuracy = []\n",
    "accuracy_train = []\n",
    "for size in embed_size:\n",
    "    \n",
    "    embeddings_dict = {}\n",
    "    with open(\"glove/glove.6B.\"+ str(size)+\"d.txt\", 'r') as f:\n",
    "        for line in f:\n",
    "            values = line.split()\n",
    "            word = values[0]\n",
    "            vector = np.asarray(values[1:], \"float32\")\n",
    "            embeddings_dict[word] = vector\n",
    "    \n",
    "    X_train = data_to_feature_mapping(train, embeddings_dict, size) ## create feature set using the embeddings\n",
    "    model = clf.fit(X_train, y_train)\n",
    "\n",
    "    X_test = data_to_feature_mapping(test,embeddings_dict, size)\n",
    "    y_test_pred = clf.predict(X_test)\n",
    "    y_train_pred = clf.predict(X_train)\n",
    "    accuracy.append(metrics.accuracy_score(y_test, y_test_pred))\n",
    "    accuracy_train.append(metrics.accuracy_score(y_train, y_train_pred))"
   ]
  },
  {
   "cell_type": "code",
   "execution_count": 31,
   "id": "fdd0d552",
   "metadata": {},
   "outputs": [
    {
     "data": {
      "text/plain": [
       "[0.9566265060240964,\n",
       " 0.9518072289156626,\n",
       " 0.9662650602409638,\n",
       " 0.9662650602409638]"
      ]
     },
     "execution_count": 31,
     "metadata": {},
     "output_type": "execute_result"
    }
   ],
   "source": [
    "## accuracy on test set\n",
    "accuracy"
   ]
  },
  {
   "cell_type": "code",
   "execution_count": 32,
   "id": "209dd726",
   "metadata": {},
   "outputs": [
    {
     "data": {
      "text/plain": [
       "[0.9480989740494871,\n",
       " 0.9837054918527459,\n",
       " 0.9981894990947495,\n",
       " 0.9981894990947495]"
      ]
     },
     "execution_count": 32,
     "metadata": {},
     "output_type": "execute_result"
    }
   ],
   "source": [
    "## accuracy on train set\n",
    "accuracy_train"
   ]
  },
  {
   "cell_type": "code",
   "execution_count": null,
   "id": "6f28179e",
   "metadata": {},
   "outputs": [],
   "source": []
  }
 ],
 "metadata": {
  "kernelspec": {
   "display_name": "Python 3",
   "language": "python",
   "name": "python3"
  },
  "language_info": {
   "codemirror_mode": {
    "name": "ipython",
    "version": 3
   },
   "file_extension": ".py",
   "mimetype": "text/x-python",
   "name": "python",
   "nbconvert_exporter": "python",
   "pygments_lexer": "ipython3",
   "version": "3.8.5"
  }
 },
 "nbformat": 4,
 "nbformat_minor": 5
}
