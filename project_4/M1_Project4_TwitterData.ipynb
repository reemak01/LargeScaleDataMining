{
 "cells": [
  {
   "cell_type": "markdown",
   "id": "211d3c54",
   "metadata": {},
   "source": [
    "This is M1 of 3 modules for the twitter dataset. In this module, we cover question 27 and 28 for exploring twitter data."
   ]
  },
  {
   "cell_type": "code",
   "execution_count": 1,
   "id": "eec2339f",
   "metadata": {},
   "outputs": [],
   "source": [
    "import numpy as np\n",
    "import random\n",
    "import pandas as pd\n",
    "import json\n",
    "import time\n",
    "from datetime import datetime\n",
    "from matplotlib import pyplot as plt"
   ]
  },
  {
   "cell_type": "code",
   "execution_count": 2,
   "id": "69399a69",
   "metadata": {},
   "outputs": [
    {
     "name": "stdout",
     "output_type": "stream",
     "text": [
      "Reading file : gohawks\n",
      "Reading file : gopatriots\n",
      "Reading file : nfl\n",
      "Reading file : patriots\n",
      "Reading file : sb49\n",
      "Reading file : superbowl\n",
      "done in 122.139s.\n"
     ]
    }
   ],
   "source": [
    "## Load data\n",
    "start_time = time.time()\n",
    "files_tag = ['gohawks', 'gopatriots', 'nfl', 'patriots', 'sb49', 'superbowl']\n",
    "\n",
    "tweet_id_ls = []\n",
    "file_tag_ls = []\n",
    "date_ls = []\n",
    "num_followers_ls = []\n",
    "retweets_ls = []\n",
    "\n",
    "for file in files_tag:\n",
    "    myJSON = []\n",
    "    print(\"Reading file : \"+file)\n",
    "    for line in open('./data/ECE219_tweet_data/tweets_#'+file+'.txt','r'):\n",
    "        data = json.loads(line)\n",
    "        \n",
    "        tweet_id_ls.append(data['tweet']['id_str'])\n",
    "        file_tag_ls.append(file)\n",
    "        date_ls.append(data['citation_date'])\n",
    "        num_followers_ls.append(data['author']['followers'])\n",
    "        retweets_ls.append(data['metrics']['citations']['total'])\n",
    "        \n",
    "df = pd.DataFrame({'tweet_id': tweet_id_ls, 'file_tag': file_tag_ls,\\\n",
    "                          'citation_datetime': date_ls, 'num_followers': num_followers_ls, \\\n",
    "                  'num_retweets': retweets_ls})\n",
    "\n",
    "print(\"done in %0.3fs.\" % (time.time() - start_time)) "
   ]
  },
  {
   "cell_type": "markdown",
   "id": "39453ee2",
   "metadata": {},
   "source": [
    "#### QUESTION 27"
   ]
  },
  {
   "cell_type": "code",
   "execution_count": 3,
   "id": "1f0af99e",
   "metadata": {},
   "outputs": [],
   "source": [
    "def report_statistics(data):\n",
    "    \n",
    "    ## Avg tweets per hour\n",
    "    num_hours = (max(data['citation_datetime']) - min(data['citation_datetime']) )/3600\n",
    "    avg_tweets_per_hour = data.shape[0]/num_hours\n",
    "    print(\"Average number of tweets per hour is: \", avg_tweets_per_hour)\n",
    "    \n",
    "    ## Avg number of followers\n",
    "    avg_followers = sum(data['num_followers'])/data.shape[0]\n",
    "    print(\"Average number of followers of users is: \", avg_followers)\n",
    "    \n",
    "    ## Avg number of retweets\n",
    "    avg_retweets = sum(data['num_retweets'])/data.shape[0]\n",
    "    print(\"Average number of retweets per tweet is: \", avg_retweets)"
   ]
  },
  {
   "cell_type": "code",
   "execution_count": 4,
   "id": "eef4b653",
   "metadata": {},
   "outputs": [
    {
     "name": "stdout",
     "output_type": "stream",
     "text": [
      "Printing statistics for hashtag:  gohawks\n",
      "Average number of tweets per hour is:  292.48785062173687\n",
      "Average number of followers of users is:  2217.9237355281984\n",
      "Average number of retweets per tweet is:  2.0132093991319877\n",
      "\n",
      "Printing statistics for hashtag:  gopatriots\n",
      "Average number of tweets per hour is:  40.95469800606194\n",
      "Average number of followers of users is:  1427.2526051635405\n",
      "Average number of retweets per tweet is:  1.4081919101697078\n",
      "\n",
      "Printing statistics for hashtag:  nfl\n",
      "Average number of tweets per hour is:  397.0213901819841\n",
      "Average number of followers of users is:  4662.37544523693\n",
      "Average number of retweets per tweet is:  1.5344602655543254\n",
      "\n",
      "Printing statistics for hashtag:  patriots\n",
      "Average number of tweets per hour is:  750.89426460689\n",
      "Average number of followers of users is:  3280.4635616550277\n",
      "Average number of retweets per tweet is:  1.7852871288476946\n",
      "\n",
      "Printing statistics for hashtag:  sb49\n",
      "Average number of tweets per hour is:  1276.8570598680474\n",
      "Average number of followers of users is:  10374.160292019487\n",
      "Average number of retweets per tweet is:  2.52713444111402\n",
      "\n",
      "Printing statistics for hashtag:  superbowl\n",
      "Average number of tweets per hour is:  2072.11840170408\n",
      "Average number of followers of users is:  8814.96799424623\n",
      "Average number of retweets per tweet is:  2.3911895819207736\n",
      "\n"
     ]
    }
   ],
   "source": [
    "for tag in files_tag:\n",
    "    print(\"Printing statistics for hashtag: \", tag)\n",
    "    tmp = df[df['file_tag'] == tag]\n",
    "    report_statistics(tmp)\n",
    "    print('')"
   ]
  },
  {
   "cell_type": "markdown",
   "id": "472ab7c1",
   "metadata": {},
   "source": [
    "#### QUESTION 28"
   ]
  },
  {
   "cell_type": "code",
   "execution_count": 37,
   "id": "80d8b7ca",
   "metadata": {},
   "outputs": [],
   "source": [
    "def plot_tweets_per_hour (data, tag):\n",
    "    bins = np.arange(min(data['citation_datetime']), max(data['citation_datetime'])+1, 3600)\n",
    "    plt.figure(figsize=(12,4))\n",
    "    plt.hist(data['citation_datetime'], bins = bins)\n",
    "    plt.xlabel('hours (in unix ts)')\n",
    "    plt.ylabel('Number of tweets')\n",
    "    plt.title(\"Frequency plot : Number of tweets per hour for: \"+ tag)\n"
   ]
  },
  {
   "cell_type": "code",
   "execution_count": 38,
   "id": "5cdf0019",
   "metadata": {},
   "outputs": [
    {
     "data": {
      "image/png": "[encoded data removed]",
      "text/plain": [
       "<Figure size 864x288 with 1 Axes>"
      ]
     },
     "metadata": {
      "needs_background": "light"
     },
     "output_type": "display_data"
    },
    {
     "data": {
      "image/png": "[encoded data removed]",
      "text/plain": [
       "<Figure size 864x288 with 1 Axes>"
      ]
     },
     "metadata": {
      "needs_background": "light"
     },
     "output_type": "display_data"
    }
   ],
   "source": [
    "tags = [ 'nfl', 'superbowl']\n",
    "\n",
    "for tag in tags:\n",
    "    \n",
    "    tmp = df[df['file_tag'] == tag]\n",
    "    plot_tweets_per_hour(tmp, tag)"
   ]
  },
  {
   "cell_type": "code",
   "execution_count": null,
   "id": "4be0a68e",
   "metadata": {},
   "outputs": [],
   "source": []
  }
 ],
 "metadata": {
  "kernelspec": {
   "display_name": "Python 3 (ipykernel)",
   "language": "python",
   "name": "python3"
  },
  "language_info": {
   "codemirror_mode": {
    "name": "ipython",
    "version": 3
   },
   "file_extension": ".py",
   "mimetype": "text/x-python",
   "name": "python",
   "nbconvert_exporter": "python",
   "pygments_lexer": "ipython3",
   "version": "3.8.12"
  }
 },
 "nbformat": 4,
 "nbformat_minor": 5
}
